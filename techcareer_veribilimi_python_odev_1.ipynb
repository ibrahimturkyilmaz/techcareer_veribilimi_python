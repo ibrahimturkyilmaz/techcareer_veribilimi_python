{
 "cells": [
  {
   "cell_type": "markdown",
   "id": "ebf75664",
   "metadata": {},
   "source": [
    "# 📘 Python Ödev Dokümanı: Veri Tipleri ve Operatörler\n",
    "Bu notebook, veri tipleri ve operatörler konusunu pekiştirmek için hazırlanmıştır."
   ]
  },
  {
   "cell_type": "markdown",
   "id": "abdab7f0",
   "metadata": {},
   "source": [
    "## Bölüm 1: Veri Tipleri"
   ]
  },
  {
   "cell_type": "markdown",
   "id": "25263d12",
   "metadata": {},
   "source": [
    "### 1. Kullanıcıdan adını, yaşını ve boyunu alma"
   ]
  },
  {
   "cell_type": "code",
   "execution_count": 2,
   "id": "da198fbd",
   "metadata": {},
   "outputs": [
    {
     "name": "stdout",
     "output_type": "stream",
     "text": [
      "Adınızı giriniz: ibo\n",
      "Yaşınızı giriniz: 21\n",
      "Boyunuzu giriniz (metre cinsinden): 188\n",
      "Adınız: ibo\n",
      "Yaşınız: 21\n",
      "Boyunuz: 188.0 metre\n"
     ]
    }
   ],
   "source": [
    "ad = input(\"Adınızı giriniz: \")\n",
    "yas = int(input(\"Yaşınızı giriniz: \"))\n",
    "boy = float(input(\"Boyunuzu giriniz (metre cinsinden): \"))\n",
    "\n",
    "print(\"Adınız:\", ad)\n",
    "print(\"Yaşınız:\", yas)\n",
    "print(\"Boyunuz:\", boy, \"metre\")"
   ]
  },
  {
   "cell_type": "markdown",
   "id": "4f396b8e",
   "metadata": {},
   "source": [
    "### 2. Not ortalaması hesaplama"
   ]
  },
  {
   "cell_type": "code",
   "execution_count": 3,
   "id": "d7c56463",
   "metadata": {},
   "outputs": [
    {
     "name": "stdout",
     "output_type": "stream",
     "text": [
      "Matematik notu: 100\n",
      "Fizik notu: 100\n",
      "Kimya notu: 100\n",
      "Not ortalamanız: 100.0\n"
     ]
    }
   ],
   "source": [
    "matematik = int(input(\"Matematik notu: \"))\n",
    "fizik = int(input(\"Fizik notu: \"))\n",
    "kimya = int(input(\"Kimya notu: \"))\n",
    "\n",
    "ortalama = (matematik + fizik + kimya) / 3\n",
    "print(\"Not ortalamanız:\", float(ortalama))"
   ]
  },
  {
   "cell_type": "markdown",
   "id": "3e2b6eb3",
   "metadata": {},
   "source": [
    "### 3. String işlemleri"
   ]
  },
  {
   "cell_type": "code",
   "execution_count": 4,
   "id": "5e5b3bc9",
   "metadata": {},
   "outputs": [
    {
     "name": "stdout",
     "output_type": "stream",
     "text": [
      "İlk karakter: P\n",
      "Son karakter: s\n",
      "Uzunluk: 10\n",
      "Ters çevrilmiş: sreDnohtyP\n"
     ]
    }
   ],
   "source": [
    "metin = \"PythonDers\"\n",
    "\n",
    "print(\"İlk karakter:\", metin[0])\n",
    "print(\"Son karakter:\", metin[-1])\n",
    "print(\"Uzunluk:\", len(metin))\n",
    "print(\"Ters çevrilmiş:\", metin[::-1])"
   ]
  },
  {
   "cell_type": "markdown",
   "id": "5b19ae58",
   "metadata": {},
   "source": [
    "## Bölüm 2: Operatörler"
   ]
  },
  {
   "cell_type": "markdown",
   "id": "0ec0164e",
   "metadata": {},
   "source": [
    "### 4. İki sayı üzerinde işlemler"
   ]
  },
  {
   "cell_type": "code",
   "execution_count": 5,
   "id": "3a79828e",
   "metadata": {},
   "outputs": [
    {
     "name": "stdout",
     "output_type": "stream",
     "text": [
      "Birinci sayıyı giriniz: 1\n",
      "İkinci sayıyı giriniz: 2\n",
      "Toplama: 3\n",
      "Çıkarma: -1\n",
      "Çarpma: 2\n",
      "Bölme: 0.5\n",
      "Mod: 1\n"
     ]
    }
   ],
   "source": [
    "sayi1 = int(input(\"Birinci sayıyı giriniz: \"))\n",
    "sayi2 = int(input(\"İkinci sayıyı giriniz: \"))\n",
    "\n",
    "print(\"Toplama:\", sayi1 + sayi2)\n",
    "print(\"Çıkarma:\", sayi1 - sayi2)\n",
    "print(\"Çarpma:\", sayi1 * sayi2)\n",
    "print(\"Bölme:\", sayi1 / sayi2)\n",
    "print(\"Mod:\", sayi1 % sayi2)"
   ]
  },
  {
   "cell_type": "markdown",
   "id": "b493abae",
   "metadata": {},
   "source": [
    "### 5. Ortalamaya göre geçti/kaldı"
   ]
  },
  {
   "cell_type": "code",
   "execution_count": 6,
   "id": "fe43b943",
   "metadata": {},
   "outputs": [
    {
     "name": "stdout",
     "output_type": "stream",
     "text": [
      "Ortalamanızı giriniz: 1\n",
      "Kaldı\n"
     ]
    }
   ],
   "source": [
    "ortalama = float(input(\"Ortalamanızı giriniz: \"))\n",
    "\n",
    "if ortalama > 50:\n",
    "    print(\"Geçti\")\n",
    "else:\n",
    "    print(\"Kaldı\")"
   ]
  },
  {
   "cell_type": "markdown",
   "id": "78958a26",
   "metadata": {},
   "source": [
    "## 6. Yaşa göre ehliyet"
   ]
  },
  {
   "cell_type": "code",
   "execution_count": 7,
   "id": "c7a6b80f",
   "metadata": {},
   "outputs": [
    {
     "name": "stdout",
     "output_type": "stream",
     "text": [
      "Yaşınızı giriniz: 21\n",
      "Ehliyet alabilirsiniz\n"
     ]
    }
   ],
   "source": [
    "yas = int(input(\"Yaşınızı giriniz: \"))\n",
    "\n",
    "if yas >= 18:\n",
    "    print(\"Ehliyet alabilirsiniz\")\n",
    "else:\n",
    "    print(\"Ehliyet alamazsınız\")"
   ]
  },
  {
   "cell_type": "markdown",
   "id": "c22d6a9f",
   "metadata": {},
   "source": [
    "### 7. Ürün indirimi"
   ]
  },
  {
   "cell_type": "code",
   "execution_count": 8,
   "id": "e89f8025",
   "metadata": {},
   "outputs": [
    {
     "name": "stdout",
     "output_type": "stream",
     "text": [
      "Ürün fiyatını giriniz: 2\n",
      "İndirim oranı (%) giriniz: 0.3\n",
      "İndirimli fiyat: 1.994 TL\n"
     ]
    }
   ],
   "source": [
    "fiyat = float(input(\"Ürün fiyatını giriniz: \"))\n",
    "indirim_orani = float(input(\"İndirim oranı (%) giriniz: \"))\n",
    "\n",
    "indirimli_fiyat = fiyat - (fiyat * indirim_orani / 100)\n",
    "print(\"İndirimli fiyat:\", indirimli_fiyat, \"TL\")"
   ]
  },
  {
   "cell_type": "markdown",
   "id": "14905e80",
   "metadata": {},
   "source": [
    "### 8. Mantıksal operatörler"
   ]
  },
  {
   "cell_type": "code",
   "execution_count": 9,
   "id": "1848bbf0",
   "metadata": {},
   "outputs": [
    {
     "name": "stdout",
     "output_type": "stream",
     "text": [
      "a and b: False\n",
      "a or b: True\n",
      "not a: False\n",
      "not b: True\n"
     ]
    }
   ],
   "source": [
    "a = True\n",
    "b = False\n",
    "\n",
    "print(\"a and b:\", a and b)\n",
    "print(\"a or b:\", a or b)\n",
    "print(\"not a:\", not a)\n",
    "print(\"not b:\", not b)"
   ]
  },
  {
   "cell_type": "markdown",
   "id": "b7385cc4",
   "metadata": {},
   "source": [
    "## Bölüm 3: Mini Proje"
   ]
  },
  {
   "cell_type": "markdown",
   "id": "1cc055bd",
   "metadata": {},
   "source": [
    "### 9. Alışveriş Sepeti"
   ]
  },
  {
   "cell_type": "code",
   "execution_count": 10,
   "id": "2be96f14",
   "metadata": {},
   "outputs": [
    {
     "name": "stdout",
     "output_type": "stream",
     "text": [
      "1. ürün fiyatı: 1\n",
      "2. ürün fiyatı: 2\n",
      "3. ürün fiyatı: 3\n",
      "Ödenecek toplam: 6.0 TL\n"
     ]
    }
   ],
   "source": [
    "urun1 = float(input(\"1. ürün fiyatı: \"))\n",
    "urun2 = float(input(\"2. ürün fiyatı: \"))\n",
    "urun3 = float(input(\"3. ürün fiyatı: \"))\n",
    "\n",
    "toplam = urun1 + urun2 + urun3\n",
    "\n",
    "if toplam > 200:\n",
    "    toplam = toplam - (toplam * 0.10)\n",
    "\n",
    "print(\"Ödenecek toplam:\", toplam, \"TL\")"
   ]
  },
  {
   "cell_type": "markdown",
   "id": "0bdbbf61",
   "metadata": {},
   "source": [
    "### 10. Yaş grubu hesaplama"
   ]
  },
  {
   "cell_type": "code",
   "execution_count": 11,
   "id": "0e13ff2e",
   "metadata": {},
   "outputs": [
    {
     "name": "stdout",
     "output_type": "stream",
     "text": [
      "Doğum yılınızı giriniz: 2004\n",
      "Yetişkinsiniz\n"
     ]
    }
   ],
   "source": [
    "dogum_yili = int(input(\"Doğum yılınızı giriniz: \"))\n",
    "guncel_yil = 2025  # manuel verdik\n",
    "\n",
    "yas = guncel_yil - dogum_yili\n",
    "\n",
    "if yas >= 0 and yas <= 12:\n",
    "    print(\"Çocuksunuz\")\n",
    "elif yas >= 13 and yas <= 17:\n",
    "    print(\"Ergensiniz\")\n",
    "else:\n",
    "    print(\"Yetişkinsiniz\")"
   ]
  },
  {
   "cell_type": "code",
   "execution_count": null,
   "id": "18a95b8c",
   "metadata": {},
   "outputs": [],
   "source": []
  }
 ],
 "metadata": {
  "kernelspec": {
   "display_name": "Python 3 (ipykernel)",
   "language": "python",
   "name": "python3"
  },
  "language_info": {
   "codemirror_mode": {
    "name": "ipython",
    "version": 3
   },
   "file_extension": ".py",
   "mimetype": "text/x-python",
   "name": "python",
   "nbconvert_exporter": "python",
   "pygments_lexer": "ipython3",
   "version": "3.11.5"
  }
 },
 "nbformat": 4,
 "nbformat_minor": 5
}
